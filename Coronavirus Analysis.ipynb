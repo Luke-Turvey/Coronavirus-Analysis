{
 "cells": [
  {
   "cell_type": "markdown",
   "metadata": {},
   "source": [
    "**Coronavirus Analysis**"
   ]
  },
  {
   "cell_type": "markdown",
   "metadata": {},
   "source": [
    "This analysis will be me just playing around with the csv files from 2020-08-11 which contain Time Series data for coronavirus in the UK from https://www.gov.uk/guidance/coronavirus-covid-19-information-for-the-public#time-series-documents. First we load in the data."
   ]
  },
  {
   "cell_type": "code",
   "execution_count": 28,
   "metadata": {},
   "outputs": [],
   "source": [
    "import pandas as pd\n",
    "\n",
    "deaths = pd.read_csv('2020-08-11_COVID-19_UK_deaths_time_series.csv')\n",
    "positive_cases = pd.read_csv('2020-08-11_COVID-19_UK_positive_cases_time_series_by_specimen_date.csv')\n",
    "tests = pd.read_csv('2020-08-11_COVID-19_UK_testing_time_series.csv')\n"
   ]
  },
  {
   "cell_type": "markdown",
   "metadata": {},
   "source": [
    "Now I want to just clean up the column names of the deaths and cases dataframes so they're easier to work with."
   ]
  },
  {
   "cell_type": "code",
   "execution_count": 29,
   "metadata": {},
   "outputs": [
    {
     "data": {
      "text/html": [
       "<div>\n",
       "<style scoped>\n",
       "    .dataframe tbody tr th:only-of-type {\n",
       "        vertical-align: middle;\n",
       "    }\n",
       "\n",
       "    .dataframe tbody tr th {\n",
       "        vertical-align: top;\n",
       "    }\n",
       "\n",
       "    .dataframe thead th {\n",
       "        text-align: right;\n",
       "    }\n",
       "</style>\n",
       "<table border=\"1\" class=\"dataframe\">\n",
       "  <thead>\n",
       "    <tr style=\"text-align: right;\">\n",
       "      <th></th>\n",
       "      <th>date</th>\n",
       "      <th>date_published</th>\n",
       "      <th>cumulative_deaths</th>\n",
       "      <th>daily_deaths</th>\n",
       "    </tr>\n",
       "  </thead>\n",
       "  <tbody>\n",
       "    <tr>\n",
       "      <th>0</th>\n",
       "      <td>05/03/2020</td>\n",
       "      <td>06/03/2020</td>\n",
       "      <td>1.0</td>\n",
       "      <td>1.0</td>\n",
       "    </tr>\n",
       "    <tr>\n",
       "      <th>1</th>\n",
       "      <td>06/03/2020</td>\n",
       "      <td>07/03/2020</td>\n",
       "      <td>2.0</td>\n",
       "      <td>1.0</td>\n",
       "    </tr>\n",
       "    <tr>\n",
       "      <th>2</th>\n",
       "      <td>07/03/2020</td>\n",
       "      <td>08/03/2020</td>\n",
       "      <td>2.0</td>\n",
       "      <td>0.0</td>\n",
       "    </tr>\n",
       "    <tr>\n",
       "      <th>3</th>\n",
       "      <td>08/03/2020</td>\n",
       "      <td>09/03/2020</td>\n",
       "      <td>3.0</td>\n",
       "      <td>1.0</td>\n",
       "    </tr>\n",
       "    <tr>\n",
       "      <th>4</th>\n",
       "      <td>09/03/2020</td>\n",
       "      <td>10/03/2020</td>\n",
       "      <td>7.0</td>\n",
       "      <td>4.0</td>\n",
       "    </tr>\n",
       "  </tbody>\n",
       "</table>\n",
       "</div>"
      ],
      "text/plain": [
       "         date date_published  cumulative_deaths  daily_deaths\n",
       "0  05/03/2020     06/03/2020                1.0           1.0\n",
       "1  06/03/2020     07/03/2020                2.0           1.0\n",
       "2  07/03/2020     08/03/2020                2.0           0.0\n",
       "3  08/03/2020     09/03/2020                3.0           1.0\n",
       "4  09/03/2020     10/03/2020                7.0           4.0"
      ]
     },
     "execution_count": 29,
     "metadata": {},
     "output_type": "execute_result"
    }
   ],
   "source": [
    "deaths.columns=[\"date\",\"date_published\",\"cumulative_deaths\",\"daily_deaths\"]\n",
    "positive_cases.columns = [\"date\",\"nation\",\"pillar\",\"daily_cases\",\"cumulative_cases\"]\n",
    "deaths.head()"
   ]
  },
  {
   "cell_type": "code",
   "execution_count": 30,
   "metadata": {},
   "outputs": [
    {
     "data": {
      "text/html": [
       "<div>\n",
       "<style scoped>\n",
       "    .dataframe tbody tr th:only-of-type {\n",
       "        vertical-align: middle;\n",
       "    }\n",
       "\n",
       "    .dataframe tbody tr th {\n",
       "        vertical-align: top;\n",
       "    }\n",
       "\n",
       "    .dataframe thead th {\n",
       "        text-align: right;\n",
       "    }\n",
       "</style>\n",
       "<table border=\"1\" class=\"dataframe\">\n",
       "  <thead>\n",
       "    <tr style=\"text-align: right;\">\n",
       "      <th></th>\n",
       "      <th>date</th>\n",
       "      <th>nation</th>\n",
       "      <th>pillar</th>\n",
       "      <th>daily_cases</th>\n",
       "      <th>cumulative_cases</th>\n",
       "    </tr>\n",
       "  </thead>\n",
       "  <tbody>\n",
       "    <tr>\n",
       "      <th>0</th>\n",
       "      <td>30/01/2020</td>\n",
       "      <td>England</td>\n",
       "      <td>Pillar 1</td>\n",
       "      <td>2</td>\n",
       "      <td>2</td>\n",
       "    </tr>\n",
       "    <tr>\n",
       "      <th>1</th>\n",
       "      <td>30/01/2020</td>\n",
       "      <td>Northern Ireland</td>\n",
       "      <td>Pillar 1</td>\n",
       "      <td>0</td>\n",
       "      <td>0</td>\n",
       "    </tr>\n",
       "    <tr>\n",
       "      <th>2</th>\n",
       "      <td>30/01/2020</td>\n",
       "      <td>Scotland</td>\n",
       "      <td>Pillar 1</td>\n",
       "      <td>0</td>\n",
       "      <td>0</td>\n",
       "    </tr>\n",
       "    <tr>\n",
       "      <th>3</th>\n",
       "      <td>30/01/2020</td>\n",
       "      <td>Wales</td>\n",
       "      <td>Pillar 1</td>\n",
       "      <td>0</td>\n",
       "      <td>0</td>\n",
       "    </tr>\n",
       "    <tr>\n",
       "      <th>4</th>\n",
       "      <td>30/01/2020</td>\n",
       "      <td>UK</td>\n",
       "      <td>Pillar 1</td>\n",
       "      <td>2</td>\n",
       "      <td>2</td>\n",
       "    </tr>\n",
       "    <tr>\n",
       "      <th>5</th>\n",
       "      <td>30/01/2020</td>\n",
       "      <td>England</td>\n",
       "      <td>Pillar 2</td>\n",
       "      <td>0</td>\n",
       "      <td>0</td>\n",
       "    </tr>\n",
       "    <tr>\n",
       "      <th>6</th>\n",
       "      <td>30/01/2020</td>\n",
       "      <td>Northern Ireland</td>\n",
       "      <td>Pillar 2</td>\n",
       "      <td>0</td>\n",
       "      <td>0</td>\n",
       "    </tr>\n",
       "    <tr>\n",
       "      <th>7</th>\n",
       "      <td>30/01/2020</td>\n",
       "      <td>Scotland</td>\n",
       "      <td>Pillar 2</td>\n",
       "      <td>0</td>\n",
       "      <td>0</td>\n",
       "    </tr>\n",
       "    <tr>\n",
       "      <th>8</th>\n",
       "      <td>30/01/2020</td>\n",
       "      <td>Wales</td>\n",
       "      <td>Pillar 2</td>\n",
       "      <td>0</td>\n",
       "      <td>0</td>\n",
       "    </tr>\n",
       "    <tr>\n",
       "      <th>9</th>\n",
       "      <td>30/01/2020</td>\n",
       "      <td>UK</td>\n",
       "      <td>Pillar 2</td>\n",
       "      <td>0</td>\n",
       "      <td>0</td>\n",
       "    </tr>\n",
       "    <tr>\n",
       "      <th>10</th>\n",
       "      <td>31/01/2020</td>\n",
       "      <td>England</td>\n",
       "      <td>Pillar 1</td>\n",
       "      <td>0</td>\n",
       "      <td>2</td>\n",
       "    </tr>\n",
       "    <tr>\n",
       "      <th>11</th>\n",
       "      <td>31/01/2020</td>\n",
       "      <td>Northern Ireland</td>\n",
       "      <td>Pillar 1</td>\n",
       "      <td>0</td>\n",
       "      <td>0</td>\n",
       "    </tr>\n",
       "    <tr>\n",
       "      <th>12</th>\n",
       "      <td>31/01/2020</td>\n",
       "      <td>Scotland</td>\n",
       "      <td>Pillar 1</td>\n",
       "      <td>0</td>\n",
       "      <td>0</td>\n",
       "    </tr>\n",
       "    <tr>\n",
       "      <th>13</th>\n",
       "      <td>31/01/2020</td>\n",
       "      <td>Wales</td>\n",
       "      <td>Pillar 1</td>\n",
       "      <td>0</td>\n",
       "      <td>0</td>\n",
       "    </tr>\n",
       "    <tr>\n",
       "      <th>14</th>\n",
       "      <td>31/01/2020</td>\n",
       "      <td>UK</td>\n",
       "      <td>Pillar 1</td>\n",
       "      <td>0</td>\n",
       "      <td>2</td>\n",
       "    </tr>\n",
       "  </tbody>\n",
       "</table>\n",
       "</div>"
      ],
      "text/plain": [
       "          date            nation    pillar  daily_cases  cumulative_cases\n",
       "0   30/01/2020           England  Pillar 1            2                 2\n",
       "1   30/01/2020  Northern Ireland  Pillar 1            0                 0\n",
       "2   30/01/2020          Scotland  Pillar 1            0                 0\n",
       "3   30/01/2020             Wales  Pillar 1            0                 0\n",
       "4   30/01/2020                UK  Pillar 1            2                 2\n",
       "5   30/01/2020           England  Pillar 2            0                 0\n",
       "6   30/01/2020  Northern Ireland  Pillar 2            0                 0\n",
       "7   30/01/2020          Scotland  Pillar 2            0                 0\n",
       "8   30/01/2020             Wales  Pillar 2            0                 0\n",
       "9   30/01/2020                UK  Pillar 2            0                 0\n",
       "10  31/01/2020           England  Pillar 1            0                 2\n",
       "11  31/01/2020  Northern Ireland  Pillar 1            0                 0\n",
       "12  31/01/2020          Scotland  Pillar 1            0                 0\n",
       "13  31/01/2020             Wales  Pillar 1            0                 0\n",
       "14  31/01/2020                UK  Pillar 1            0                 2"
      ]
     },
     "execution_count": 30,
     "metadata": {},
     "output_type": "execute_result"
    }
   ],
   "source": [
    "positive_cases.head(15)"
   ]
  },
  {
   "cell_type": "markdown",
   "metadata": {},
   "source": [
    "To understand what this data looks like we need to plot it. The deaths data is easy to plot because each day has only one entry."
   ]
  },
  {
   "cell_type": "code",
   "execution_count": 31,
   "metadata": {},
   "outputs": [
    {
     "data": {
      "text/plain": [
       "<matplotlib.axes._subplots.AxesSubplot at 0x17b8451ed30>"
      ]
     },
     "execution_count": 31,
     "metadata": {},
     "output_type": "execute_result"
    },
    {
     "data": {
      "image/png": "[encoded data removed]",
      "text/plain": [
       "<Figure size 432x288 with 1 Axes>"
      ]
     },
     "metadata": {
      "needs_background": "light"
     },
     "output_type": "display_data"
    },
    {
     "data": {
      "image/png": "[encoded data removed]",
      "text/plain": [
       "<Figure size 432x288 with 1 Axes>"
      ]
     },
     "metadata": {
      "needs_background": "light"
     },
     "output_type": "display_data"
    }
   ],
   "source": [
    "deaths.plot(x='date',y='cumulative_deaths')\n",
    "deaths.plot(x='date',y='daily_deaths')"
   ]
  },
  {
   "cell_type": "markdown",
   "metadata": {},
   "source": [
    "However, the positive_cases dataframe is split by Nation and by Pillar (categories of tests). In order to create an easy dataframe to plot we just need to pull out all the entries with the Nation being UK and combine the pillars together. For the sake of simplicity we can drop the Pillar and Nation columns as it is just for the UK in general and all tests."
   ]
  },
  {
   "cell_type": "code",
   "execution_count": 32,
   "metadata": {},
   "outputs": [
    {
     "data": {
      "text/html": [
       "<div>\n",
       "<style scoped>\n",
       "    .dataframe tbody tr th:only-of-type {\n",
       "        vertical-align: middle;\n",
       "    }\n",
       "\n",
       "    .dataframe tbody tr th {\n",
       "        vertical-align: top;\n",
       "    }\n",
       "\n",
       "    .dataframe thead th {\n",
       "        text-align: right;\n",
       "    }\n",
       "</style>\n",
       "<table border=\"1\" class=\"dataframe\">\n",
       "  <thead>\n",
       "    <tr style=\"text-align: right;\">\n",
       "      <th></th>\n",
       "      <th>date</th>\n",
       "      <th>daily_cases</th>\n",
       "      <th>cumulative_cases</th>\n",
       "    </tr>\n",
       "  </thead>\n",
       "  <tbody>\n",
       "    <tr>\n",
       "      <th>0</th>\n",
       "      <td>30/01/2020</td>\n",
       "      <td>2</td>\n",
       "      <td>2</td>\n",
       "    </tr>\n",
       "    <tr>\n",
       "      <th>1</th>\n",
       "      <td>31/01/2020</td>\n",
       "      <td>0</td>\n",
       "      <td>2</td>\n",
       "    </tr>\n",
       "    <tr>\n",
       "      <th>2</th>\n",
       "      <td>01/02/2020</td>\n",
       "      <td>0</td>\n",
       "      <td>2</td>\n",
       "    </tr>\n",
       "    <tr>\n",
       "      <th>3</th>\n",
       "      <td>02/02/2020</td>\n",
       "      <td>0</td>\n",
       "      <td>2</td>\n",
       "    </tr>\n",
       "    <tr>\n",
       "      <th>4</th>\n",
       "      <td>03/02/2020</td>\n",
       "      <td>1</td>\n",
       "      <td>3</td>\n",
       "    </tr>\n",
       "    <tr>\n",
       "      <th>...</th>\n",
       "      <td>...</td>\n",
       "      <td>...</td>\n",
       "      <td>...</td>\n",
       "    </tr>\n",
       "    <tr>\n",
       "      <th>189</th>\n",
       "      <td>06/08/2020</td>\n",
       "      <td>1027</td>\n",
       "      <td>310775</td>\n",
       "    </tr>\n",
       "    <tr>\n",
       "      <th>190</th>\n",
       "      <td>07/08/2020</td>\n",
       "      <td>853</td>\n",
       "      <td>311628</td>\n",
       "    </tr>\n",
       "    <tr>\n",
       "      <th>191</th>\n",
       "      <td>08/08/2020</td>\n",
       "      <td>629</td>\n",
       "      <td>312257</td>\n",
       "    </tr>\n",
       "    <tr>\n",
       "      <th>192</th>\n",
       "      <td>09/08/2020</td>\n",
       "      <td>439</td>\n",
       "      <td>312696</td>\n",
       "    </tr>\n",
       "    <tr>\n",
       "      <th>193</th>\n",
       "      <td>10/08/2020</td>\n",
       "      <td>93</td>\n",
       "      <td>312789</td>\n",
       "    </tr>\n",
       "  </tbody>\n",
       "</table>\n",
       "<p>194 rows × 3 columns</p>\n",
       "</div>"
      ],
      "text/plain": [
       "           date  daily_cases  cumulative_cases\n",
       "0    30/01/2020            2                 2\n",
       "1    31/01/2020            0                 2\n",
       "2    01/02/2020            0                 2\n",
       "3    02/02/2020            0                 2\n",
       "4    03/02/2020            1                 3\n",
       "..          ...          ...               ...\n",
       "189  06/08/2020         1027            310775\n",
       "190  07/08/2020          853            311628\n",
       "191  08/08/2020          629            312257\n",
       "192  09/08/2020          439            312696\n",
       "193  10/08/2020           93            312789\n",
       "\n",
       "[194 rows x 3 columns]"
      ]
     },
     "execution_count": 32,
     "metadata": {},
     "output_type": "execute_result"
    }
   ],
   "source": [
    "import numpy as np\n",
    "\n",
    "UK_cases = positive_cases[positive_cases['nation']=='UK']\n",
    "\n",
    "daily_cases = UK_cases[UK_cases['pillar'] == 'Pillar 1']['daily_cases'].to_numpy() + UK_cases[UK_cases['pillar'] == 'Pillar 2']['daily_cases'].to_numpy()\n",
    "cumulative_cases = UK_cases[UK_cases['pillar'] == 'Pillar 1']['cumulative_cases'].to_numpy() + UK_cases[UK_cases['pillar'] == 'Pillar 2']['cumulative_cases'].to_numpy()\n",
    "\n",
    "UK_cases = pd.DataFrame({'date': UK_cases[UK_cases['pillar'] == 'Pillar 1']['date'], 'daily_cases': daily_cases, 'cumulative_cases': cumulative_cases})\n",
    "UK_cases.index = range(len(daily_cases))\n",
    "UK_cases"
   ]
  },
  {
   "cell_type": "markdown",
   "metadata": {},
   "source": [
    "Now we can plot this new dataframe of UK cases with all types of tests combined."
   ]
  },
  {
   "cell_type": "code",
   "execution_count": 34,
   "metadata": {},
   "outputs": [
    {
     "data": {
      "text/plain": [
       "<matplotlib.axes._subplots.AxesSubplot at 0x17b8426c160>"
      ]
     },
     "execution_count": 34,
     "metadata": {},
     "output_type": "execute_result"
    },
    {
     "data": {
      "image/png": "[encoded data removed]",
      "text/plain": [
       "<Figure size 432x288 with 1 Axes>"
      ]
     },
     "metadata": {
      "needs_background": "light"
     },
     "output_type": "display_data"
    },
    {
     "data": {
      "image/png": "[encoded data removed]",
      "text/plain": [
       "<Figure size 432x288 with 1 Axes>"
      ]
     },
     "metadata": {
      "needs_background": "light"
     },
     "output_type": "display_data"
    }
   ],
   "source": [
    "UK_cases.plot(x='date',y='cumulative_cases')\n",
    "UK_cases.plot(x='date',y='daily_cases')"
   ]
  },
  {
   "cell_type": "markdown",
   "metadata": {},
   "source": [
    "Although the x-axis of these graphs are hard to read they just represent continuation of time so I am not going to orient the text to make it easier to read. \n",
    "\n",
    "From just these graphs we can get a good indication of how the coronavirus pandemic has progressed so far in the UK. Another interesting metric to consider is the ratio between positive cases and deaths. Now in order to make the data even easier to work with I'm just going to use an SQL join to put it all in one dataframe."
   ]
  },
  {
   "cell_type": "code",
   "execution_count": 37,
   "metadata": {},
   "outputs": [
    {
     "data": {
      "text/html": [
       "<div>\n",
       "<style scoped>\n",
       "    .dataframe tbody tr th:only-of-type {\n",
       "        vertical-align: middle;\n",
       "    }\n",
       "\n",
       "    .dataframe tbody tr th {\n",
       "        vertical-align: top;\n",
       "    }\n",
       "\n",
       "    .dataframe thead th {\n",
       "        text-align: right;\n",
       "    }\n",
       "</style>\n",
       "<table border=\"1\" class=\"dataframe\">\n",
       "  <thead>\n",
       "    <tr style=\"text-align: right;\">\n",
       "      <th></th>\n",
       "      <th>date</th>\n",
       "      <th>daily_cases</th>\n",
       "      <th>cumulative_cases</th>\n",
       "      <th>cumulative_deaths</th>\n",
       "      <th>daily_deaths</th>\n",
       "    </tr>\n",
       "  </thead>\n",
       "  <tbody>\n",
       "    <tr>\n",
       "      <th>0</th>\n",
       "      <td>05/03/2020</td>\n",
       "      <td>51</td>\n",
       "      <td>272</td>\n",
       "      <td>1.0</td>\n",
       "      <td>1.0</td>\n",
       "    </tr>\n",
       "    <tr>\n",
       "      <th>1</th>\n",
       "      <td>06/03/2020</td>\n",
       "      <td>81</td>\n",
       "      <td>353</td>\n",
       "      <td>2.0</td>\n",
       "      <td>1.0</td>\n",
       "    </tr>\n",
       "    <tr>\n",
       "      <th>2</th>\n",
       "      <td>07/03/2020</td>\n",
       "      <td>60</td>\n",
       "      <td>413</td>\n",
       "      <td>2.0</td>\n",
       "      <td>0.0</td>\n",
       "    </tr>\n",
       "    <tr>\n",
       "      <th>3</th>\n",
       "      <td>08/03/2020</td>\n",
       "      <td>57</td>\n",
       "      <td>470</td>\n",
       "      <td>3.0</td>\n",
       "      <td>1.0</td>\n",
       "    </tr>\n",
       "    <tr>\n",
       "      <th>4</th>\n",
       "      <td>09/03/2020</td>\n",
       "      <td>148</td>\n",
       "      <td>618</td>\n",
       "      <td>7.0</td>\n",
       "      <td>4.0</td>\n",
       "    </tr>\n",
       "    <tr>\n",
       "      <th>...</th>\n",
       "      <td>...</td>\n",
       "      <td>...</td>\n",
       "      <td>...</td>\n",
       "      <td>...</td>\n",
       "      <td>...</td>\n",
       "    </tr>\n",
       "    <tr>\n",
       "      <th>154</th>\n",
       "      <td>06/08/2020</td>\n",
       "      <td>1027</td>\n",
       "      <td>310775</td>\n",
       "      <td>NaN</td>\n",
       "      <td>NaN</td>\n",
       "    </tr>\n",
       "    <tr>\n",
       "      <th>155</th>\n",
       "      <td>07/08/2020</td>\n",
       "      <td>853</td>\n",
       "      <td>311628</td>\n",
       "      <td>NaN</td>\n",
       "      <td>NaN</td>\n",
       "    </tr>\n",
       "    <tr>\n",
       "      <th>156</th>\n",
       "      <td>08/08/2020</td>\n",
       "      <td>629</td>\n",
       "      <td>312257</td>\n",
       "      <td>NaN</td>\n",
       "      <td>NaN</td>\n",
       "    </tr>\n",
       "    <tr>\n",
       "      <th>157</th>\n",
       "      <td>09/08/2020</td>\n",
       "      <td>439</td>\n",
       "      <td>312696</td>\n",
       "      <td>NaN</td>\n",
       "      <td>NaN</td>\n",
       "    </tr>\n",
       "    <tr>\n",
       "      <th>158</th>\n",
       "      <td>10/08/2020</td>\n",
       "      <td>93</td>\n",
       "      <td>312789</td>\n",
       "      <td>NaN</td>\n",
       "      <td>NaN</td>\n",
       "    </tr>\n",
       "  </tbody>\n",
       "</table>\n",
       "<p>159 rows × 5 columns</p>\n",
       "</div>"
      ],
      "text/plain": [
       "           date  daily_cases  cumulative_cases  cumulative_deaths  \\\n",
       "0    05/03/2020           51               272                1.0   \n",
       "1    06/03/2020           81               353                2.0   \n",
       "2    07/03/2020           60               413                2.0   \n",
       "3    08/03/2020           57               470                3.0   \n",
       "4    09/03/2020          148               618                7.0   \n",
       "..          ...          ...               ...                ...   \n",
       "154  06/08/2020         1027            310775                NaN   \n",
       "155  07/08/2020          853            311628                NaN   \n",
       "156  08/08/2020          629            312257                NaN   \n",
       "157  09/08/2020          439            312696                NaN   \n",
       "158  10/08/2020           93            312789                NaN   \n",
       "\n",
       "     daily_deaths  \n",
       "0             1.0  \n",
       "1             1.0  \n",
       "2             0.0  \n",
       "3             1.0  \n",
       "4             4.0  \n",
       "..            ...  \n",
       "154           NaN  \n",
       "155           NaN  \n",
       "156           NaN  \n",
       "157           NaN  \n",
       "158           NaN  \n",
       "\n",
       "[159 rows x 5 columns]"
      ]
     },
     "execution_count": 37,
     "metadata": {},
     "output_type": "execute_result"
    }
   ],
   "source": [
    "from pandasql import sqldf\n",
    "\n",
    "pysqldf = lambda q: sqldf(q, globals())\n",
    "\n",
    "coronavirus_data = pysqldf(\"\"\"SELECT UK_cases.date, daily_cases, cumulative_cases, cumulative_deaths, daily_deaths FROM UK_cases\n",
    "        INNER JOIN deaths ON deaths.date == UK_cases.date\"\"\")\n",
    "\n",
    "coronavirus_data"
   ]
  },
  {
   "cell_type": "code",
   "execution_count": 46,
   "metadata": {},
   "outputs": [
    {
     "name": "stderr",
     "output_type": "stream",
     "text": [
      "<ipython-input-46-0a6aeb815223>:1: RuntimeWarning: divide by zero encountered in true_divide\n",
      "  daily_ratio = np.divide(coronavirus_data['daily_cases'].to_numpy(), coronavirus_data['daily_deaths'].to_numpy())\n"
     ]
    },
    {
     "data": {
      "text/html": [
       "<div>\n",
       "<style scoped>\n",
       "    .dataframe tbody tr th:only-of-type {\n",
       "        vertical-align: middle;\n",
       "    }\n",
       "\n",
       "    .dataframe tbody tr th {\n",
       "        vertical-align: top;\n",
       "    }\n",
       "\n",
       "    .dataframe thead th {\n",
       "        text-align: right;\n",
       "    }\n",
       "</style>\n",
       "<table border=\"1\" class=\"dataframe\">\n",
       "  <thead>\n",
       "    <tr style=\"text-align: right;\">\n",
       "      <th></th>\n",
       "      <th>date</th>\n",
       "      <th>daily_ratio</th>\n",
       "      <th>cumulative_ratio</th>\n",
       "    </tr>\n",
       "  </thead>\n",
       "  <tbody>\n",
       "    <tr>\n",
       "      <th>0</th>\n",
       "      <td>05/03/2020</td>\n",
       "      <td>51.0</td>\n",
       "      <td>272.000000</td>\n",
       "    </tr>\n",
       "    <tr>\n",
       "      <th>1</th>\n",
       "      <td>06/03/2020</td>\n",
       "      <td>81.0</td>\n",
       "      <td>176.500000</td>\n",
       "    </tr>\n",
       "    <tr>\n",
       "      <th>2</th>\n",
       "      <td>07/03/2020</td>\n",
       "      <td>0.0</td>\n",
       "      <td>206.500000</td>\n",
       "    </tr>\n",
       "    <tr>\n",
       "      <th>3</th>\n",
       "      <td>08/03/2020</td>\n",
       "      <td>57.0</td>\n",
       "      <td>156.666667</td>\n",
       "    </tr>\n",
       "    <tr>\n",
       "      <th>4</th>\n",
       "      <td>09/03/2020</td>\n",
       "      <td>37.0</td>\n",
       "      <td>88.285714</td>\n",
       "    </tr>\n",
       "    <tr>\n",
       "      <th>...</th>\n",
       "      <td>...</td>\n",
       "      <td>...</td>\n",
       "      <td>...</td>\n",
       "    </tr>\n",
       "    <tr>\n",
       "      <th>154</th>\n",
       "      <td>06/08/2020</td>\n",
       "      <td>NaN</td>\n",
       "      <td>NaN</td>\n",
       "    </tr>\n",
       "    <tr>\n",
       "      <th>155</th>\n",
       "      <td>07/08/2020</td>\n",
       "      <td>NaN</td>\n",
       "      <td>NaN</td>\n",
       "    </tr>\n",
       "    <tr>\n",
       "      <th>156</th>\n",
       "      <td>08/08/2020</td>\n",
       "      <td>NaN</td>\n",
       "      <td>NaN</td>\n",
       "    </tr>\n",
       "    <tr>\n",
       "      <th>157</th>\n",
       "      <td>09/08/2020</td>\n",
       "      <td>NaN</td>\n",
       "      <td>NaN</td>\n",
       "    </tr>\n",
       "    <tr>\n",
       "      <th>158</th>\n",
       "      <td>10/08/2020</td>\n",
       "      <td>NaN</td>\n",
       "      <td>NaN</td>\n",
       "    </tr>\n",
       "  </tbody>\n",
       "</table>\n",
       "<p>159 rows × 3 columns</p>\n",
       "</div>"
      ],
      "text/plain": [
       "           date  daily_ratio  cumulative_ratio\n",
       "0    05/03/2020         51.0        272.000000\n",
       "1    06/03/2020         81.0        176.500000\n",
       "2    07/03/2020          0.0        206.500000\n",
       "3    08/03/2020         57.0        156.666667\n",
       "4    09/03/2020         37.0         88.285714\n",
       "..          ...          ...               ...\n",
       "154  06/08/2020          NaN               NaN\n",
       "155  07/08/2020          NaN               NaN\n",
       "156  08/08/2020          NaN               NaN\n",
       "157  09/08/2020          NaN               NaN\n",
       "158  10/08/2020          NaN               NaN\n",
       "\n",
       "[159 rows x 3 columns]"
      ]
     },
     "execution_count": 46,
     "metadata": {},
     "output_type": "execute_result"
    }
   ],
   "source": [
    "daily_ratio = np.divide(coronavirus_data['daily_cases'].to_numpy(), coronavirus_data['daily_deaths'].to_numpy())\n",
    "daily_ratio[daily_ratio == np.inf] = 0\n",
    "cumulative_ratio = np.divide(coronavirus_data['cumulative_cases'].to_numpy(), coronavirus_data['cumulative_deaths'].to_numpy())\n",
    "cumulative_ratio[cumulative_ratio == np.inf] = 0\n",
    "\n",
    "cases_deaths_ratio = pd.DataFrame({'date':coronavirus_data['date'],'daily_ratio':daily_ratio,'cumulative_ratio':cumulative_ratio})\n",
    "cases_deaths_ratio"
   ]
  },
  {
   "cell_type": "code",
   "execution_count": 50,
   "metadata": {},
   "outputs": [
    {
     "data": {
      "text/plain": [
       "<matplotlib.axes._subplots.AxesSubplot at 0x17b83f8b400>"
      ]
     },
     "execution_count": 50,
     "metadata": {},
     "output_type": "execute_result"
    },
    {
     "data": {
      "image/png": "[encoded data removed]",
      "text/plain": [
       "<Figure size 432x288 with 1 Axes>"
      ]
     },
     "metadata": {
      "needs_background": "light"
     },
     "output_type": "display_data"
    },
    {
     "data": {
      "image/png": "[encoded data removed]",
      "text/plain": [
       "<Figure size 432x288 with 1 Axes>"
      ]
     },
     "metadata": {
      "needs_background": "light"
     },
     "output_type": "display_data"
    }
   ],
   "source": [
    "cases_deaths_ratio.plot(x='date',y='daily_ratio')\n",
    "cases_deaths_ratio.plot(x='date',y='cumulative_ratio')"
   ]
  },
  {
   "cell_type": "markdown",
   "metadata": {},
   "source": [
    "These graphs tell us "
   ]
  }
 ],
 "metadata": {
  "kernelspec": {
   "display_name": "Python 3",
   "language": "python",
   "name": "python3"
  },
  "language_info": {
   "codemirror_mode": {
    "name": "ipython",
    "version": 3
   },
   "file_extension": ".py",
   "mimetype": "text/x-python",
   "name": "python",
   "nbconvert_exporter": "python",
   "pygments_lexer": "ipython3",
   "version": "3.8.3"
  }
 },
 "nbformat": 4,
 "nbformat_minor": 4
}
